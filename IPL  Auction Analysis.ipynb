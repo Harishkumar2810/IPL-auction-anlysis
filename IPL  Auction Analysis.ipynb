{
 "cells": [
  {
   "cell_type": "code",
   "execution_count": 99,
   "id": "113dce4f-f637-4369-8c4f-05012f3b2f62",
   "metadata": {},
   "outputs": [],
   "source": [
    "import os\n",
    "import pandas as pd\n",
    "import numpy as np\n",
    "import matplotlib.pyplot as plt"
   ]
  },
  {
   "cell_type": "code",
   "execution_count": 18,
   "id": "2d4ac129-6858-41e6-b637-6e7a39f2551e",
   "metadata": {},
   "outputs": [
    {
     "data": {
      "text/html": [
       "<div>\n",
       "<style scoped>\n",
       "    .dataframe tbody tr th:only-of-type {\n",
       "        vertical-align: middle;\n",
       "    }\n",
       "\n",
       "    .dataframe tbody tr th {\n",
       "        vertical-align: top;\n",
       "    }\n",
       "\n",
       "    .dataframe thead th {\n",
       "        text-align: right;\n",
       "    }\n",
       "</style>\n",
       "<table border=\"1\" class=\"dataframe\">\n",
       "  <thead>\n",
       "    <tr style=\"text-align: right;\">\n",
       "      <th></th>\n",
       "      <th>PLAYER</th>\n",
       "      <th>NATIONALITY</th>\n",
       "      <th>TYPE</th>\n",
       "      <th>TEAM</th>\n",
       "      <th>PRICE PAID</th>\n",
       "    </tr>\n",
       "  </thead>\n",
       "  <tbody>\n",
       "    <tr>\n",
       "      <th>0</th>\n",
       "      <td>Daryl Mitchell</td>\n",
       "      <td>Overseas</td>\n",
       "      <td>All-Rounder</td>\n",
       "      <td>Chennai Super Kings</td>\n",
       "      <td>140000000</td>\n",
       "    </tr>\n",
       "    <tr>\n",
       "      <th>1</th>\n",
       "      <td>Sameer Rizvi</td>\n",
       "      <td>Indian</td>\n",
       "      <td>Batter</td>\n",
       "      <td>Chennai Super Kings</td>\n",
       "      <td>84000000</td>\n",
       "    </tr>\n",
       "  </tbody>\n",
       "</table>\n",
       "</div>"
      ],
      "text/plain": [
       "           PLAYER NATIONALITY         TYPE                 TEAM  PRICE PAID\n",
       "0  Daryl Mitchell    Overseas  All-Rounder  Chennai Super Kings   140000000\n",
       "1    Sameer Rizvi      Indian       Batter  Chennai Super Kings    84000000"
      ]
     },
     "execution_count": 18,
     "metadata": {},
     "output_type": "execute_result"
    }
   ],
   "source": [
    "data=pd.read_csv(r\"C:\\Users\\kpmha\\Downloads\\auction.csv\")\n",
    "data.head(2)"
   ]
  },
  {
   "cell_type": "code",
   "execution_count": 11,
   "id": "b04554cf-1909-467e-b5a8-d416a39370ac",
   "metadata": {},
   "outputs": [
    {
     "data": {
      "text/html": [
       "<div>\n",
       "<style scoped>\n",
       "    .dataframe tbody tr th:only-of-type {\n",
       "        vertical-align: middle;\n",
       "    }\n",
       "\n",
       "    .dataframe tbody tr th {\n",
       "        vertical-align: top;\n",
       "    }\n",
       "\n",
       "    .dataframe thead th {\n",
       "        text-align: right;\n",
       "    }\n",
       "</style>\n",
       "<table border=\"1\" class=\"dataframe\">\n",
       "  <thead>\n",
       "    <tr style=\"text-align: right;\">\n",
       "      <th></th>\n",
       "      <th>PLAYER</th>\n",
       "      <th>NATIONALITY</th>\n",
       "      <th>TYPE</th>\n",
       "      <th>TEAM</th>\n",
       "      <th>PRICE PAID</th>\n",
       "    </tr>\n",
       "  </thead>\n",
       "  <tbody>\n",
       "    <tr>\n",
       "      <th>70</th>\n",
       "      <td>Jhathavedh Subramanyan</td>\n",
       "      <td>Indian</td>\n",
       "      <td>Bowler</td>\n",
       "      <td>Sunrisers Hyderabad</td>\n",
       "      <td>2000000</td>\n",
       "    </tr>\n",
       "    <tr>\n",
       "      <th>71</th>\n",
       "      <td>Akash Singh</td>\n",
       "      <td>Indian</td>\n",
       "      <td>Bowler</td>\n",
       "      <td>Sunrisers Hyderabad</td>\n",
       "      <td>2000000</td>\n",
       "    </tr>\n",
       "  </tbody>\n",
       "</table>\n",
       "</div>"
      ],
      "text/plain": [
       "                    PLAYER NATIONALITY    TYPE                 TEAM  \\\n",
       "70  Jhathavedh Subramanyan      Indian  Bowler  Sunrisers Hyderabad   \n",
       "71             Akash Singh      Indian  Bowler  Sunrisers Hyderabad   \n",
       "\n",
       "    PRICE PAID  \n",
       "70     2000000  \n",
       "71     2000000  "
      ]
     },
     "execution_count": 11,
     "metadata": {},
     "output_type": "execute_result"
    }
   ],
   "source": [
    "data.tail(2)"
   ]
  },
  {
   "cell_type": "code",
   "execution_count": 12,
   "id": "106eba99-3e0a-4a0b-822c-815603ef0728",
   "metadata": {},
   "outputs": [
    {
     "data": {
      "text/plain": [
       "(72, 5)"
      ]
     },
     "execution_count": 12,
     "metadata": {},
     "output_type": "execute_result"
    }
   ],
   "source": [
    "data.shape"
   ]
  },
  {
   "cell_type": "code",
   "execution_count": 21,
   "id": "cc315526-6e44-4948-b4e2-c99a22b733ae",
   "metadata": {},
   "outputs": [
    {
     "data": {
      "text/plain": [
       "PLAYER         0\n",
       "NATIONALITY    0\n",
       "TYPE           0\n",
       "TEAM           0\n",
       "PRICE PAID     0\n",
       "dtype: int64"
      ]
     },
     "execution_count": 21,
     "metadata": {},
     "output_type": "execute_result"
    }
   ],
   "source": [
    "data.isnull().sum()"
   ]
  },
  {
   "cell_type": "code",
   "execution_count": 29,
   "id": "f033cf38-2a79-4548-b8c8-ae96f84b9d54",
   "metadata": {},
   "outputs": [
    {
     "data": {
      "text/plain": [
       "0     False\n",
       "1     False\n",
       "2     False\n",
       "3     False\n",
       "4     False\n",
       "      ...  \n",
       "67    False\n",
       "68    False\n",
       "69    False\n",
       "70    False\n",
       "71    False\n",
       "Length: 72, dtype: bool"
      ]
     },
     "execution_count": 29,
     "metadata": {},
     "output_type": "execute_result"
    }
   ],
   "source": [
    "data.duplicated()"
   ]
  },
  {
   "cell_type": "code",
   "execution_count": 19,
   "id": "53b0d863-bb12-41b3-9ffd-fa856f612c75",
   "metadata": {},
   "outputs": [
    {
     "data": {
      "text/html": [
       "<div>\n",
       "<style scoped>\n",
       "    .dataframe tbody tr th:only-of-type {\n",
       "        vertical-align: middle;\n",
       "    }\n",
       "\n",
       "    .dataframe tbody tr th {\n",
       "        vertical-align: top;\n",
       "    }\n",
       "\n",
       "    .dataframe thead th {\n",
       "        text-align: right;\n",
       "    }\n",
       "</style>\n",
       "<table border=\"1\" class=\"dataframe\">\n",
       "  <thead>\n",
       "    <tr style=\"text-align: right;\">\n",
       "      <th></th>\n",
       "      <th>PLAYER</th>\n",
       "      <th>NATIONALITY</th>\n",
       "      <th>TYPE</th>\n",
       "      <th>TEAM</th>\n",
       "      <th>PRICE PAID</th>\n",
       "    </tr>\n",
       "  </thead>\n",
       "  <tbody>\n",
       "    <tr>\n",
       "      <th>0</th>\n",
       "      <td>Daryl Mitchell</td>\n",
       "      <td>Overseas</td>\n",
       "      <td>All-Rounder</td>\n",
       "      <td>Chennai Super Kings</td>\n",
       "      <td>140000000</td>\n",
       "    </tr>\n",
       "    <tr>\n",
       "      <th>1</th>\n",
       "      <td>Sameer Rizvi</td>\n",
       "      <td>Indian</td>\n",
       "      <td>Batter</td>\n",
       "      <td>Chennai Super Kings</td>\n",
       "      <td>84000000</td>\n",
       "    </tr>\n",
       "  </tbody>\n",
       "</table>\n",
       "</div>"
      ],
      "text/plain": [
       "           PLAYER NATIONALITY         TYPE                 TEAM  PRICE PAID\n",
       "0  Daryl Mitchell    Overseas  All-Rounder  Chennai Super Kings   140000000\n",
       "1    Sameer Rizvi      Indian       Batter  Chennai Super Kings    84000000"
      ]
     },
     "execution_count": 19,
     "metadata": {},
     "output_type": "execute_result"
    }
   ],
   "source": [
    "data.head(2)"
   ]
  },
  {
   "cell_type": "code",
   "execution_count": 27,
   "id": "e0eb0948-a3df-422a-8d36-e68fad22c8b4",
   "metadata": {},
   "outputs": [
    {
     "data": {
      "text/plain": [
       "PLAYER                   NATIONALITY  TYPE           TEAM                         PRICE PAID\n",
       "Abid Mushtaq             Indian       All-Rounder    Rajasthan Royals             2000000       1\n",
       "Shivam Mavi              Indian       Bowler         Lucknow Super Giants         64000000      1\n",
       "Robin Minz               Indian       Wicket-Keeper  Gujarat Titans               36000000      1\n",
       "Sakib Hussain            Indian       Bowler         Kolkata Knight Riders        2000000       1\n",
       "Sameer Rizvi             Indian       Batter         Chennai Super Kings          84000000      1\n",
       "Saurav Chuahan           Indian       Batter         Royal Challengers Bengaluru  2000000       1\n",
       "Shahrukh Khan            Indian       All-Rounder    Gujarat Titans               74000000      1\n",
       "Shardul Thakur           Indian       All-Rounder    Chennai Super Kings          40000000      1\n",
       "Shashank Singh           Indian       Batter         Punjab Kings                 2000000       1\n",
       "Shivalik Sharma          Indian       All-Rounder    Mumbai Indians               2000000       1\n",
       "Shreyas Gopal            Indian       Bowler         Mumbai Indians               2000000       1\n",
       "Akash Singh              Indian       Bowler         Sunrisers Hyderabad          2000000       1\n",
       "Shubham Dubey            Indian       Batter         Rajasthan Royals             58000000      1\n",
       "Sumit Kumar              Indian       All-Rounder    Delhi Capitals               10000000      1\n",
       "Sushant Mishra           Indian       Bowler         Gujarat Titans               22000000      1\n",
       "Swapnil Singh            Indian       All-Rounder    Royal Challengers Bengaluru  2000000       1\n",
       "Swastik Chhikara         Indian       Batter         Delhi Capitals               2000000       1\n",
       "Tanay Thyagarajann       Indian       All-Rounder    Punjab Kings                 2000000       1\n",
       "Umesh Yadav              Indian       Bowler         Gujarat Titans               58000000      1\n",
       "Vishwanath Pratap Singh  Indian       All-Rounder    Punjab Kings                 2000000       1\n",
       "Ricky Bhui               Indian       Wicket-Keeper  Delhi Capitals               2000000       1\n",
       "Rasikh Dar               Indian       Bowler         Delhi Capitals               2000000       1\n",
       "Ramandeep Singh          Indian       All-Rounder    Kolkata Knight Riders        2000000       1\n",
       "Prince Choudhary         Indian       Bowler         Punjab Kings                 2000000       1\n",
       "Angkrish Raghuvanshi     Indian       Batter         Kolkata Knight Riders        2000000       1\n",
       "Anshul Kamboj            Indian       All-Rounder    Mumbai Indians               2000000       1\n",
       "Arshin Kulkarni          Indian       All-Rounder    Lucknow Super Giants         2000000       1\n",
       "Ashutosh Sharma          Indian       All-Rounder    Punjab Kings                 2000000       1\n",
       "Avanish Rao Aravelly     Indian       Wicket-Keeper  Chennai Super Kings          2000000       1\n",
       "Chetan Sakariya          Indian       Bowler         Kolkata Knight Riders        5000000       1\n",
       "Harshal Patel            Indian       All-Rounder    Punjab Kings                 117500000     1\n",
       "Jaydev Unadkat           Indian       Bowler         Sunrisers Hyderabad          16000000      1\n",
       "Jhathavedh Subramanyan   Indian       Bowler         Sunrisers Hyderabad          2000000       1\n",
       "K.S. Bharat              Indian       Wicket-Keeper  Kolkata Knight Riders        5000000       1\n",
       "Kartik Tyagi             Indian       Bowler         Gujarat Titans               6000000       1\n",
       "Kumar Kushagra           Indian       Wicket-Keeper  Delhi Capitals               72000000      1\n",
       "M. Siddharth             Indian       Bowler         Lucknow Super Giants         24000000      1\n",
       "Manav Suthar             Indian       Bowler         Gujarat Titans               2000000       1\n",
       "Manish Pandey            Indian       Batter         Kolkata Knight Riders        5000000       1\n",
       "Mohd. Arshad Khan        Indian       All-Rounder    Lucknow Super Giants         2000000       1\n",
       "Naman Dhir               Indian       All-Rounder    Mumbai Indians               2000000       1\n",
       "Yash Dayal               Indian       Bowler         Royal Challengers Bengaluru  50000000      1\n",
       "dtype: int64"
      ]
     },
     "execution_count": 27,
     "metadata": {},
     "output_type": "execute_result"
    }
   ],
   "source": [
    "data_ind=data[data['NATIONALITY']=='Indian'].value_counts()\n",
    "data_ind"
   ]
  },
  {
   "cell_type": "code",
   "execution_count": 34,
   "id": "bb7a88cf-f6ed-48e8-9583-cd22ed8f7c65",
   "metadata": {},
   "outputs": [],
   "source": [
    "data['palyer_nation']=data['NATIONALITY'].apply(lambda x: 'Indian' if x == 'Indian' else '-')"
   ]
  },
  {
   "cell_type": "code",
   "execution_count": 67,
   "id": "d1874d4e-a265-4a5a-9911-00c99d64ce9b",
   "metadata": {},
   "outputs": [
    {
     "data": {
      "text/html": [
       "<div>\n",
       "<style scoped>\n",
       "    .dataframe tbody tr th:only-of-type {\n",
       "        vertical-align: middle;\n",
       "    }\n",
       "\n",
       "    .dataframe tbody tr th {\n",
       "        vertical-align: top;\n",
       "    }\n",
       "\n",
       "    .dataframe thead th {\n",
       "        text-align: right;\n",
       "    }\n",
       "</style>\n",
       "<table border=\"1\" class=\"dataframe\">\n",
       "  <thead>\n",
       "    <tr style=\"text-align: right;\">\n",
       "      <th></th>\n",
       "      <th>PLAYER</th>\n",
       "      <th>NATIONALITY</th>\n",
       "      <th>TYPE</th>\n",
       "      <th>TEAM</th>\n",
       "      <th>PRICE PAID</th>\n",
       "      <th>palyer_nation</th>\n",
       "    </tr>\n",
       "  </thead>\n",
       "  <tbody>\n",
       "    <tr>\n",
       "      <th>0</th>\n",
       "      <td>Daryl Mitchell</td>\n",
       "      <td>Overseas</td>\n",
       "      <td>All-Rounder</td>\n",
       "      <td>Chennai Super Kings</td>\n",
       "      <td>140000000</td>\n",
       "      <td>-</td>\n",
       "    </tr>\n",
       "    <tr>\n",
       "      <th>1</th>\n",
       "      <td>Sameer Rizvi</td>\n",
       "      <td>Indian</td>\n",
       "      <td>Batter</td>\n",
       "      <td>Chennai Super Kings</td>\n",
       "      <td>84000000</td>\n",
       "      <td>Indian</td>\n",
       "    </tr>\n",
       "  </tbody>\n",
       "</table>\n",
       "</div>"
      ],
      "text/plain": [
       "           PLAYER NATIONALITY         TYPE                 TEAM  PRICE PAID  \\\n",
       "0  Daryl Mitchell    Overseas  All-Rounder  Chennai Super Kings   140000000   \n",
       "1    Sameer Rizvi      Indian       Batter  Chennai Super Kings    84000000   \n",
       "\n",
       "  palyer_nation  \n",
       "0             -  \n",
       "1        Indian  "
      ]
     },
     "execution_count": 67,
     "metadata": {},
     "output_type": "execute_result"
    }
   ],
   "source": [
    "data.head(2)"
   ]
  },
  {
   "cell_type": "code",
   "execution_count": 78,
   "id": "6dbc1730-4ced-4263-9b48-5fbb763f1bc6",
   "metadata": {},
   "outputs": [
    {
     "data": {
      "text/plain": [
       "247500000"
      ]
     },
     "execution_count": 78,
     "metadata": {},
     "output_type": "execute_result"
    }
   ],
   "source": [
    "data['PRICE PAID'].max()"
   ]
  },
  {
   "cell_type": "code",
   "execution_count": 79,
   "id": "1dca782c-ce6a-4d22-9c2f-7d29b9ff8023",
   "metadata": {},
   "outputs": [
    {
     "data": {
      "text/plain": [
       "2000000"
      ]
     },
     "execution_count": 79,
     "metadata": {},
     "output_type": "execute_result"
    }
   ],
   "source": [
    "data['PRICE PAID'].min()"
   ]
  },
  {
   "cell_type": "code",
   "execution_count": 97,
   "id": "ba928405-84fa-43cb-a057-65712e84284d",
   "metadata": {},
   "outputs": [
    {
     "data": {
      "text/html": [
       "<div>\n",
       "<style scoped>\n",
       "    .dataframe tbody tr th:only-of-type {\n",
       "        vertical-align: middle;\n",
       "    }\n",
       "\n",
       "    .dataframe tbody tr th {\n",
       "        vertical-align: top;\n",
       "    }\n",
       "\n",
       "    .dataframe thead th {\n",
       "        text-align: right;\n",
       "    }\n",
       "</style>\n",
       "<table border=\"1\" class=\"dataframe\">\n",
       "  <thead>\n",
       "    <tr style=\"text-align: right;\">\n",
       "      <th></th>\n",
       "      <th>PLAYER</th>\n",
       "      <th>NATIONALITY</th>\n",
       "      <th>TYPE</th>\n",
       "      <th>TEAM</th>\n",
       "      <th>PRICE PAID</th>\n",
       "      <th>palyer_nation</th>\n",
       "    </tr>\n",
       "  </thead>\n",
       "  <tbody>\n",
       "    <tr>\n",
       "      <th>5</th>\n",
       "      <td>Avanish Rao Aravelly</td>\n",
       "      <td>Indian</td>\n",
       "      <td>Wicket-Keeper</td>\n",
       "      <td>Chennai Super Kings</td>\n",
       "      <td>2000000</td>\n",
       "      <td>Indian</td>\n",
       "    </tr>\n",
       "    <tr>\n",
       "      <th>12</th>\n",
       "      <td>Ricky Bhui</td>\n",
       "      <td>Indian</td>\n",
       "      <td>Wicket-Keeper</td>\n",
       "      <td>Delhi Capitals</td>\n",
       "      <td>2000000</td>\n",
       "      <td>Indian</td>\n",
       "    </tr>\n",
       "    <tr>\n",
       "      <th>13</th>\n",
       "      <td>Swastik Chhikara</td>\n",
       "      <td>Indian</td>\n",
       "      <td>Batter</td>\n",
       "      <td>Delhi Capitals</td>\n",
       "      <td>2000000</td>\n",
       "      <td>Indian</td>\n",
       "    </tr>\n",
       "    <tr>\n",
       "      <th>14</th>\n",
       "      <td>Rasikh Dar</td>\n",
       "      <td>Indian</td>\n",
       "      <td>Bowler</td>\n",
       "      <td>Delhi Capitals</td>\n",
       "      <td>2000000</td>\n",
       "      <td>Indian</td>\n",
       "    </tr>\n",
       "    <tr>\n",
       "      <th>22</th>\n",
       "      <td>Manav Suthar</td>\n",
       "      <td>Indian</td>\n",
       "      <td>Bowler</td>\n",
       "      <td>Gujarat Titans</td>\n",
       "      <td>2000000</td>\n",
       "      <td>Indian</td>\n",
       "    </tr>\n",
       "    <tr>\n",
       "      <th>23</th>\n",
       "      <td>Mitchell Starc</td>\n",
       "      <td>Overseas</td>\n",
       "      <td>Bowler</td>\n",
       "      <td>Kolkata Knight Riders</td>\n",
       "      <td>247500000</td>\n",
       "      <td>-</td>\n",
       "    </tr>\n",
       "    <tr>\n",
       "      <th>30</th>\n",
       "      <td>Angkrish Raghuvanshi</td>\n",
       "      <td>Indian</td>\n",
       "      <td>Batter</td>\n",
       "      <td>Kolkata Knight Riders</td>\n",
       "      <td>2000000</td>\n",
       "      <td>Indian</td>\n",
       "    </tr>\n",
       "    <tr>\n",
       "      <th>31</th>\n",
       "      <td>Ramandeep Singh</td>\n",
       "      <td>Indian</td>\n",
       "      <td>All-Rounder</td>\n",
       "      <td>Kolkata Knight Riders</td>\n",
       "      <td>2000000</td>\n",
       "      <td>Indian</td>\n",
       "    </tr>\n",
       "  </tbody>\n",
       "</table>\n",
       "</div>"
      ],
      "text/plain": [
       "                  PLAYER NATIONALITY           TYPE                   TEAM  \\\n",
       "5   Avanish Rao Aravelly      Indian  Wicket-Keeper    Chennai Super Kings   \n",
       "12            Ricky Bhui      Indian  Wicket-Keeper         Delhi Capitals   \n",
       "13      Swastik Chhikara      Indian         Batter         Delhi Capitals   \n",
       "14            Rasikh Dar      Indian         Bowler         Delhi Capitals   \n",
       "22          Manav Suthar      Indian         Bowler         Gujarat Titans   \n",
       "23        Mitchell Starc    Overseas         Bowler  Kolkata Knight Riders   \n",
       "30  Angkrish Raghuvanshi      Indian         Batter  Kolkata Knight Riders   \n",
       "31       Ramandeep Singh      Indian    All-Rounder  Kolkata Knight Riders   \n",
       "\n",
       "    PRICE PAID palyer_nation  \n",
       "5      2000000        Indian  \n",
       "12     2000000        Indian  \n",
       "13     2000000        Indian  \n",
       "14     2000000        Indian  \n",
       "22     2000000        Indian  \n",
       "23   247500000             -  \n",
       "30     2000000        Indian  \n",
       "31     2000000        Indian  "
      ]
     },
     "execution_count": 97,
     "metadata": {},
     "output_type": "execute_result"
    }
   ],
   "source": [
    "data[(data['PRICE PAID']==247500000) | (data['PRICE PAID']==2000000)].head(8)"
   ]
  },
  {
   "cell_type": "code",
   "execution_count": 140,
   "id": "cb1cedc1-4648-4b4e-8814-23cc4c5d8db1",
   "metadata": {},
   "outputs": [
    {
     "data": {
      "text/plain": [
       "[<matplotlib.lines.Line2D at 0x1f397bb1650>]"
      ]
     },
     "execution_count": 140,
     "metadata": {},
     "output_type": "execute_result"
    },
    {
     "data": {
      "image/png": "[encoded data removed]",
      "text/plain": [
       "<Figure size 640x480 with 1 Axes>"
      ]
     },
     "metadata": {},
     "output_type": "display_data"
    }
   ],
   "source": [
    "plt.scatter(data['TEAM'],data['PRICE PAID'],color='black',marker='v')\n",
    "plt.plot(data['TEAM'],data['PRICE PAID'],linestyle=\"-\")"
   ]
  },
  {
   "cell_type": "code",
   "execution_count": 141,
   "id": "2362eb4a-f91f-4ae6-8e5e-26c2e055860e",
   "metadata": {},
   "outputs": [
    {
     "data": {
      "text/plain": [
       "<BarContainer object of 72 artists>"
      ]
     },
     "execution_count": 141,
     "metadata": {},
     "output_type": "execute_result"
    },
    {
     "data": {
      "image/png": "[encoded data removed]",
      "text/plain": [
       "<Figure size 640x480 with 1 Axes>"
      ]
     },
     "metadata": {},
     "output_type": "display_data"
    }
   ],
   "source": [
    "plt.barh(data['TEAM'],data['PRICE PAID'])"
   ]
  },
  {
   "cell_type": "code",
   "execution_count": 143,
   "id": "616af482-0b58-46e0-bf25-09a343ac44c6",
   "metadata": {},
   "outputs": [
    {
     "data": {
      "text/html": [
       "<div>\n",
       "<style scoped>\n",
       "    .dataframe tbody tr th:only-of-type {\n",
       "        vertical-align: middle;\n",
       "    }\n",
       "\n",
       "    .dataframe tbody tr th {\n",
       "        vertical-align: top;\n",
       "    }\n",
       "\n",
       "    .dataframe thead th {\n",
       "        text-align: right;\n",
       "    }\n",
       "</style>\n",
       "<table border=\"1\" class=\"dataframe\">\n",
       "  <thead>\n",
       "    <tr style=\"text-align: right;\">\n",
       "      <th></th>\n",
       "      <th>PLAYER</th>\n",
       "      <th>NATIONALITY</th>\n",
       "      <th>TYPE</th>\n",
       "      <th>TEAM</th>\n",
       "      <th>PRICE PAID</th>\n",
       "      <th>palyer_nation</th>\n",
       "    </tr>\n",
       "  </thead>\n",
       "  <tbody>\n",
       "    <tr>\n",
       "      <th>0</th>\n",
       "      <td>Daryl Mitchell</td>\n",
       "      <td>Overseas</td>\n",
       "      <td>All-Rounder</td>\n",
       "      <td>Chennai Super Kings</td>\n",
       "      <td>140000000</td>\n",
       "      <td>-</td>\n",
       "    </tr>\n",
       "    <tr>\n",
       "      <th>1</th>\n",
       "      <td>Sameer Rizvi</td>\n",
       "      <td>Indian</td>\n",
       "      <td>Batter</td>\n",
       "      <td>Chennai Super Kings</td>\n",
       "      <td>84000000</td>\n",
       "      <td>Indian</td>\n",
       "    </tr>\n",
       "  </tbody>\n",
       "</table>\n",
       "</div>"
      ],
      "text/plain": [
       "           PLAYER NATIONALITY         TYPE                 TEAM  PRICE PAID  \\\n",
       "0  Daryl Mitchell    Overseas  All-Rounder  Chennai Super Kings   140000000   \n",
       "1    Sameer Rizvi      Indian       Batter  Chennai Super Kings    84000000   \n",
       "\n",
       "  palyer_nation  \n",
       "0             -  \n",
       "1        Indian  "
      ]
     },
     "execution_count": 143,
     "metadata": {},
     "output_type": "execute_result"
    }
   ],
   "source": [
    "data.head(2)"
   ]
  },
  {
   "cell_type": "code",
   "execution_count": 158,
   "id": "2efd5f23-0835-4cf5-a01c-42d4f28b222c",
   "metadata": {},
   "outputs": [
    {
     "data": {
      "text/html": [
       "<div>\n",
       "<style scoped>\n",
       "    .dataframe tbody tr th:only-of-type {\n",
       "        vertical-align: middle;\n",
       "    }\n",
       "\n",
       "    .dataframe tbody tr th {\n",
       "        vertical-align: top;\n",
       "    }\n",
       "\n",
       "    .dataframe thead th {\n",
       "        text-align: right;\n",
       "    }\n",
       "</style>\n",
       "<table border=\"1\" class=\"dataframe\">\n",
       "  <thead>\n",
       "    <tr style=\"text-align: right;\">\n",
       "      <th></th>\n",
       "      <th>PLAYER</th>\n",
       "      <th>NATIONALITY</th>\n",
       "      <th>TYPE</th>\n",
       "      <th>TEAM</th>\n",
       "      <th>PRICE PAID</th>\n",
       "      <th>palyer_nation</th>\n",
       "    </tr>\n",
       "  </thead>\n",
       "  <tbody>\n",
       "    <tr>\n",
       "      <th>3</th>\n",
       "      <td>Mustafizur Rahman</td>\n",
       "      <td>Overseas</td>\n",
       "      <td>Bowler</td>\n",
       "      <td>Chennai Super Kings</td>\n",
       "      <td>20000000</td>\n",
       "      <td>-</td>\n",
       "    </tr>\n",
       "    <tr>\n",
       "      <th>7</th>\n",
       "      <td>Jhye Richardson</td>\n",
       "      <td>Overseas</td>\n",
       "      <td>Bowler</td>\n",
       "      <td>Delhi Capitals</td>\n",
       "      <td>50000000</td>\n",
       "      <td>-</td>\n",
       "    </tr>\n",
       "    <tr>\n",
       "      <th>14</th>\n",
       "      <td>Rasikh Dar</td>\n",
       "      <td>Indian</td>\n",
       "      <td>Bowler</td>\n",
       "      <td>Delhi Capitals</td>\n",
       "      <td>2000000</td>\n",
       "      <td>Indian</td>\n",
       "    </tr>\n",
       "    <tr>\n",
       "      <th>15</th>\n",
       "      <td>Spencer Johnson</td>\n",
       "      <td>Overseas</td>\n",
       "      <td>Bowler</td>\n",
       "      <td>Gujarat Titans</td>\n",
       "      <td>100000000</td>\n",
       "      <td>-</td>\n",
       "    </tr>\n",
       "    <tr>\n",
       "      <th>17</th>\n",
       "      <td>Umesh Yadav</td>\n",
       "      <td>Indian</td>\n",
       "      <td>Bowler</td>\n",
       "      <td>Gujarat Titans</td>\n",
       "      <td>58000000</td>\n",
       "      <td>Indian</td>\n",
       "    </tr>\n",
       "    <tr>\n",
       "      <th>19</th>\n",
       "      <td>Sushant Mishra</td>\n",
       "      <td>Indian</td>\n",
       "      <td>Bowler</td>\n",
       "      <td>Gujarat Titans</td>\n",
       "      <td>22000000</td>\n",
       "      <td>Indian</td>\n",
       "    </tr>\n",
       "    <tr>\n",
       "      <th>20</th>\n",
       "      <td>Kartik Tyagi</td>\n",
       "      <td>Indian</td>\n",
       "      <td>Bowler</td>\n",
       "      <td>Gujarat Titans</td>\n",
       "      <td>6000000</td>\n",
       "      <td>Indian</td>\n",
       "    </tr>\n",
       "    <tr>\n",
       "      <th>22</th>\n",
       "      <td>Manav Suthar</td>\n",
       "      <td>Indian</td>\n",
       "      <td>Bowler</td>\n",
       "      <td>Gujarat Titans</td>\n",
       "      <td>2000000</td>\n",
       "      <td>Indian</td>\n",
       "    </tr>\n",
       "    <tr>\n",
       "      <th>23</th>\n",
       "      <td>Mitchell Starc</td>\n",
       "      <td>Overseas</td>\n",
       "      <td>Bowler</td>\n",
       "      <td>Kolkata Knight Riders</td>\n",
       "      <td>247500000</td>\n",
       "      <td>-</td>\n",
       "    </tr>\n",
       "    <tr>\n",
       "      <th>24</th>\n",
       "      <td>Mujeeb Rahman</td>\n",
       "      <td>Overseas</td>\n",
       "      <td>Bowler</td>\n",
       "      <td>Kolkata Knight Riders</td>\n",
       "      <td>20000000</td>\n",
       "      <td>-</td>\n",
       "    </tr>\n",
       "  </tbody>\n",
       "</table>\n",
       "</div>"
      ],
      "text/plain": [
       "               PLAYER NATIONALITY    TYPE                   TEAM  PRICE PAID  \\\n",
       "3   Mustafizur Rahman    Overseas  Bowler    Chennai Super Kings    20000000   \n",
       "7     Jhye Richardson    Overseas  Bowler         Delhi Capitals    50000000   \n",
       "14         Rasikh Dar      Indian  Bowler         Delhi Capitals     2000000   \n",
       "15    Spencer Johnson    Overseas  Bowler         Gujarat Titans   100000000   \n",
       "17        Umesh Yadav      Indian  Bowler         Gujarat Titans    58000000   \n",
       "19     Sushant Mishra      Indian  Bowler         Gujarat Titans    22000000   \n",
       "20       Kartik Tyagi      Indian  Bowler         Gujarat Titans     6000000   \n",
       "22       Manav Suthar      Indian  Bowler         Gujarat Titans     2000000   \n",
       "23     Mitchell Starc    Overseas  Bowler  Kolkata Knight Riders   247500000   \n",
       "24      Mujeeb Rahman    Overseas  Bowler  Kolkata Knight Riders    20000000   \n",
       "\n",
       "   palyer_nation  \n",
       "3              -  \n",
       "7              -  \n",
       "14        Indian  \n",
       "15             -  \n",
       "17        Indian  \n",
       "19        Indian  \n",
       "20        Indian  \n",
       "22        Indian  \n",
       "23             -  \n",
       "24             -  "
      ]
     },
     "execution_count": 158,
     "metadata": {},
     "output_type": "execute_result"
    }
   ],
   "source": [
    "data[data['TYPE']=='Bowler'].head(10)"
   ]
  },
  {
   "cell_type": "code",
   "execution_count": 167,
   "id": "09044fd9-aea8-4f89-b815-960fe8e056c6",
   "metadata": {},
   "outputs": [
    {
     "data": {
      "text/html": [
       "<div>\n",
       "<style scoped>\n",
       "    .dataframe tbody tr th:only-of-type {\n",
       "        vertical-align: middle;\n",
       "    }\n",
       "\n",
       "    .dataframe tbody tr th {\n",
       "        vertical-align: top;\n",
       "    }\n",
       "\n",
       "    .dataframe thead th {\n",
       "        text-align: right;\n",
       "    }\n",
       "</style>\n",
       "<table border=\"1\" class=\"dataframe\">\n",
       "  <thead>\n",
       "    <tr style=\"text-align: right;\">\n",
       "      <th></th>\n",
       "      <th>PLAYER</th>\n",
       "      <th>NATIONALITY</th>\n",
       "      <th>TYPE</th>\n",
       "      <th>TEAM</th>\n",
       "      <th>PRICE PAID</th>\n",
       "    </tr>\n",
       "  </thead>\n",
       "  <tbody>\n",
       "    <tr>\n",
       "      <th>0</th>\n",
       "      <td>Daryl Mitchell</td>\n",
       "      <td>Overseas</td>\n",
       "      <td>All-Rounder</td>\n",
       "      <td>Chennai Super Kings</td>\n",
       "      <td>140000000</td>\n",
       "    </tr>\n",
       "    <tr>\n",
       "      <th>1</th>\n",
       "      <td>Sameer Rizvi</td>\n",
       "      <td>Indian</td>\n",
       "      <td>Batter</td>\n",
       "      <td>Chennai Super Kings</td>\n",
       "      <td>84000000</td>\n",
       "    </tr>\n",
       "  </tbody>\n",
       "</table>\n",
       "</div>"
      ],
      "text/plain": [
       "           PLAYER NATIONALITY         TYPE                 TEAM  PRICE PAID\n",
       "0  Daryl Mitchell    Overseas  All-Rounder  Chennai Super Kings   140000000\n",
       "1    Sameer Rizvi      Indian       Batter  Chennai Super Kings    84000000"
      ]
     },
     "execution_count": 167,
     "metadata": {},
     "output_type": "execute_result"
    }
   ],
   "source": [
    "data.head(2)"
   ]
  },
  {
   "cell_type": "code",
   "execution_count": 194,
   "id": "92e36f2a-8261-4a89-a0e8-3482ce3cb63f",
   "metadata": {},
   "outputs": [
    {
     "data": {
      "text/plain": [
       "PLAYER         8\n",
       "NATIONALITY    8\n",
       "TYPE           8\n",
       "TEAM           8\n",
       "PRICE PAID     8\n",
       "dtype: int64"
      ]
     },
     "execution_count": 194,
     "metadata": {},
     "output_type": "execute_result"
    }
   ],
   "source": [
    "a=data[data['TEAM']=='Mumbai Indians']\n",
    "a.count()"
   ]
  },
  {
   "cell_type": "code",
   "execution_count": 174,
   "id": "ecddce90-3125-4aeb-996c-ed75a1c112ad",
   "metadata": {},
   "outputs": [
    {
     "data": {
      "text/plain": [
       "2304500000"
      ]
     },
     "execution_count": 174,
     "metadata": {},
     "output_type": "execute_result"
    }
   ],
   "source": [
    "data['PRICE PAID'].sum()"
   ]
  },
  {
   "cell_type": "code",
   "execution_count": 195,
   "id": "22ba6cb2-6f46-4d23-9bd6-7e21fd01fc45",
   "metadata": {},
   "outputs": [
    {
     "data": {
      "text/html": [
       "<div>\n",
       "<style scoped>\n",
       "    .dataframe tbody tr th:only-of-type {\n",
       "        vertical-align: middle;\n",
       "    }\n",
       "\n",
       "    .dataframe tbody tr th {\n",
       "        vertical-align: top;\n",
       "    }\n",
       "\n",
       "    .dataframe thead th {\n",
       "        text-align: right;\n",
       "    }\n",
       "</style>\n",
       "<table border=\"1\" class=\"dataframe\">\n",
       "  <thead>\n",
       "    <tr style=\"text-align: right;\">\n",
       "      <th></th>\n",
       "      <th>PLAYER</th>\n",
       "      <th>NATIONALITY</th>\n",
       "      <th>TYPE</th>\n",
       "      <th>TEAM</th>\n",
       "      <th>PRICE PAID</th>\n",
       "    </tr>\n",
       "  </thead>\n",
       "  <tbody>\n",
       "    <tr>\n",
       "      <th>39</th>\n",
       "      <td>Gerald Coetzee</td>\n",
       "      <td>Overseas</td>\n",
       "      <td>All-Rounder</td>\n",
       "      <td>Mumbai Indians</td>\n",
       "      <td>50000000</td>\n",
       "    </tr>\n",
       "    <tr>\n",
       "      <th>40</th>\n",
       "      <td>Nuwan Thushara</td>\n",
       "      <td>Overseas</td>\n",
       "      <td>Bowler</td>\n",
       "      <td>Mumbai Indians</td>\n",
       "      <td>48000000</td>\n",
       "    </tr>\n",
       "    <tr>\n",
       "      <th>41</th>\n",
       "      <td>Dilshan Madushanka</td>\n",
       "      <td>Overseas</td>\n",
       "      <td>Bowler</td>\n",
       "      <td>Mumbai Indians</td>\n",
       "      <td>46000000</td>\n",
       "    </tr>\n",
       "    <tr>\n",
       "      <th>42</th>\n",
       "      <td>Mohammad Nabi</td>\n",
       "      <td>Overseas</td>\n",
       "      <td>All-Rounder</td>\n",
       "      <td>Mumbai Indians</td>\n",
       "      <td>15000000</td>\n",
       "    </tr>\n",
       "    <tr>\n",
       "      <th>43</th>\n",
       "      <td>Shreyas Gopal</td>\n",
       "      <td>Indian</td>\n",
       "      <td>Bowler</td>\n",
       "      <td>Mumbai Indians</td>\n",
       "      <td>2000000</td>\n",
       "    </tr>\n",
       "    <tr>\n",
       "      <th>44</th>\n",
       "      <td>Shivalik Sharma</td>\n",
       "      <td>Indian</td>\n",
       "      <td>All-Rounder</td>\n",
       "      <td>Mumbai Indians</td>\n",
       "      <td>2000000</td>\n",
       "    </tr>\n",
       "    <tr>\n",
       "      <th>45</th>\n",
       "      <td>Anshul Kamboj</td>\n",
       "      <td>Indian</td>\n",
       "      <td>All-Rounder</td>\n",
       "      <td>Mumbai Indians</td>\n",
       "      <td>2000000</td>\n",
       "    </tr>\n",
       "    <tr>\n",
       "      <th>46</th>\n",
       "      <td>Naman Dhir</td>\n",
       "      <td>Indian</td>\n",
       "      <td>All-Rounder</td>\n",
       "      <td>Mumbai Indians</td>\n",
       "      <td>2000000</td>\n",
       "    </tr>\n",
       "  </tbody>\n",
       "</table>\n",
       "</div>"
      ],
      "text/plain": [
       "                PLAYER NATIONALITY         TYPE            TEAM  PRICE PAID\n",
       "39      Gerald Coetzee    Overseas  All-Rounder  Mumbai Indians    50000000\n",
       "40      Nuwan Thushara    Overseas       Bowler  Mumbai Indians    48000000\n",
       "41  Dilshan Madushanka    Overseas       Bowler  Mumbai Indians    46000000\n",
       "42       Mohammad Nabi    Overseas  All-Rounder  Mumbai Indians    15000000\n",
       "43       Shreyas Gopal      Indian       Bowler  Mumbai Indians     2000000\n",
       "44     Shivalik Sharma      Indian  All-Rounder  Mumbai Indians     2000000\n",
       "45       Anshul Kamboj      Indian  All-Rounder  Mumbai Indians     2000000\n",
       "46          Naman Dhir      Indian  All-Rounder  Mumbai Indians     2000000"
      ]
     },
     "execution_count": 195,
     "metadata": {},
     "output_type": "execute_result"
    }
   ],
   "source": [
    "mumbai_data=data[data['TEAM']=='Mumbai Indians']\n",
    "mumbai_data"
   ]
  },
  {
   "cell_type": "code",
   "execution_count": 197,
   "id": "3aea8776-cf03-4efd-a852-c08605274254",
   "metadata": {},
   "outputs": [
    {
     "data": {
      "text/plain": [
       "<BarContainer object of 8 artists>"
      ]
     },
     "execution_count": 197,
     "metadata": {},
     "output_type": "execute_result"
    },
    {
     "data": {
      "image/png": "[encoded data removed]",
      "text/plain": [
       "<Figure size 640x480 with 1 Axes>"
      ]
     },
     "metadata": {},
     "output_type": "display_data"
    }
   ],
   "source": [
    "plt.barh(mumbai_data['PLAYER'], mumbai_data['PRICE PAID'])"
   ]
  },
  {
   "cell_type": "code",
   "execution_count": 198,
   "id": "6c702796-a41e-41f1-982b-ac912397b763",
   "metadata": {},
   "outputs": [
    {
     "data": {
      "text/html": [
       "<div>\n",
       "<style scoped>\n",
       "    .dataframe tbody tr th:only-of-type {\n",
       "        vertical-align: middle;\n",
       "    }\n",
       "\n",
       "    .dataframe tbody tr th {\n",
       "        vertical-align: top;\n",
       "    }\n",
       "\n",
       "    .dataframe thead th {\n",
       "        text-align: right;\n",
       "    }\n",
       "</style>\n",
       "<table border=\"1\" class=\"dataframe\">\n",
       "  <thead>\n",
       "    <tr style=\"text-align: right;\">\n",
       "      <th></th>\n",
       "      <th>PLAYER</th>\n",
       "      <th>NATIONALITY</th>\n",
       "      <th>TYPE</th>\n",
       "      <th>TEAM</th>\n",
       "      <th>PRICE PAID</th>\n",
       "    </tr>\n",
       "  </thead>\n",
       "  <tbody>\n",
       "    <tr>\n",
       "      <th>0</th>\n",
       "      <td>Daryl Mitchell</td>\n",
       "      <td>Overseas</td>\n",
       "      <td>All-Rounder</td>\n",
       "      <td>Chennai Super Kings</td>\n",
       "      <td>140000000</td>\n",
       "    </tr>\n",
       "    <tr>\n",
       "      <th>1</th>\n",
       "      <td>Sameer Rizvi</td>\n",
       "      <td>Indian</td>\n",
       "      <td>Batter</td>\n",
       "      <td>Chennai Super Kings</td>\n",
       "      <td>84000000</td>\n",
       "    </tr>\n",
       "  </tbody>\n",
       "</table>\n",
       "</div>"
      ],
      "text/plain": [
       "           PLAYER NATIONALITY         TYPE                 TEAM  PRICE PAID\n",
       "0  Daryl Mitchell    Overseas  All-Rounder  Chennai Super Kings   140000000\n",
       "1    Sameer Rizvi      Indian       Batter  Chennai Super Kings    84000000"
      ]
     },
     "execution_count": 198,
     "metadata": {},
     "output_type": "execute_result"
    }
   ],
   "source": [
    "data.head(2)"
   ]
  },
  {
   "cell_type": "code",
   "execution_count": 201,
   "id": "6b8db152-e199-4718-bb45-c4b1603c0777",
   "metadata": {},
   "outputs": [
    {
     "data": {
      "text/html": [
       "<div>\n",
       "<style scoped>\n",
       "    .dataframe tbody tr th:only-of-type {\n",
       "        vertical-align: middle;\n",
       "    }\n",
       "\n",
       "    .dataframe tbody tr th {\n",
       "        vertical-align: top;\n",
       "    }\n",
       "\n",
       "    .dataframe thead th {\n",
       "        text-align: right;\n",
       "    }\n",
       "</style>\n",
       "<table border=\"1\" class=\"dataframe\">\n",
       "  <thead>\n",
       "    <tr style=\"text-align: right;\">\n",
       "      <th></th>\n",
       "      <th>PLAYER</th>\n",
       "      <th>NATIONALITY</th>\n",
       "      <th>TYPE</th>\n",
       "      <th>TEAM</th>\n",
       "      <th>PRICE PAID</th>\n",
       "    </tr>\n",
       "  </thead>\n",
       "  <tbody>\n",
       "  </tbody>\n",
       "</table>\n",
       "</div>"
      ],
      "text/plain": [
       "Empty DataFrame\n",
       "Columns: [PLAYER, NATIONALITY, TYPE, TEAM, PRICE PAID]\n",
       "Index: []"
      ]
     },
     "execution_count": 201,
     "metadata": {},
     "output_type": "execute_result"
    }
   ],
   "source": [
    "data[data['PLAYER']=='Sam Curran']"
   ]
  },
  {
   "cell_type": "code",
   "execution_count": 229,
   "id": "0d7b9797-0d64-40d4-89f0-07b39a1166b5",
   "metadata": {},
   "outputs": [
    {
     "data": {
      "text/plain": [
       "Kolkata Knight Riders          10\n",
       "Delhi Capitals                  9\n",
       "Gujarat Titans                  8\n",
       "Mumbai Indians                  8\n",
       "Punjab Kings                    8\n",
       "Chennai Super Kings             6\n",
       "Lucknow Super Giants            6\n",
       "Royal Challengers Bengaluru     6\n",
       "Sunrisers Hyderabad             6\n",
       "Rajasthan Royals                5\n",
       "Name: TEAM, dtype: int64"
      ]
     },
     "execution_count": 229,
     "metadata": {},
     "output_type": "execute_result"
    }
   ],
   "source": [
    "te=data['TEAM'].value_counts().head(10)\n",
    "te"
   ]
  },
  {
   "cell_type": "code",
   "execution_count": 234,
   "id": "cc72a271-61eb-4df0-8b82-098cffbb576d",
   "metadata": {},
   "outputs": [
    {
     "data": {
      "text/plain": [
       "Daryl Mitchell             1\n",
       "Sameer Rizvi               1\n",
       "Ashutosh Sharma            1\n",
       "Vishwanath Pratap Singh    1\n",
       "Tanay Thyagarajann         1\n",
       "Chris Woakes               1\n",
       "Rilee Rossouw              1\n",
       "Harshal Patel              1\n",
       "Naman Dhir                 1\n",
       "Anshul Kamboj              1\n",
       "Name: PLAYER, dtype: int64"
      ]
     },
     "execution_count": 234,
     "metadata": {},
     "output_type": "execute_result"
    }
   ],
   "source": [
    "pl=data['PLAYER'].value_counts().head(10)\n",
    "pl"
   ]
  },
  {
   "cell_type": "code",
   "execution_count": null,
   "id": "bb7b5898-e81a-4176-8aad-aad74f76ce0b",
   "metadata": {},
   "outputs": [],
   "source": [
    "output_path="
   ]
  }
 ],
 "metadata": {
  "kernelspec": {
   "display_name": "Python 3 (ipykernel)",
   "language": "python",
   "name": "python3"
  },
  "language_info": {
   "codemirror_mode": {
    "name": "ipython",
    "version": 3
   },
   "file_extension": ".py",
   "mimetype": "text/x-python",
   "name": "python",
   "nbconvert_exporter": "python",
   "pygments_lexer": "ipython3",
   "version": "3.11.7"
  }
 },
 "nbformat": 4,
 "nbformat_minor": 5
}
